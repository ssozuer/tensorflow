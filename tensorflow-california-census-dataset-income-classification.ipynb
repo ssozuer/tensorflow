{
 "cells": [
  {
   "cell_type": "markdown",
   "metadata": {},
   "source": [
    "# Tensorflow: California Census Data 'Income' Classification "
   ]
  },
  {
   "cell_type": "code",
   "execution_count": 27,
   "metadata": {
    "collapsed": true
   },
   "outputs": [],
   "source": [
    "import pandas as pd\n",
    "import tensorflow as tf\n",
    "import matplotlib.pyplot as plt\n",
    "from sklearn.model_selection import train_test_split\n",
    "from sklearn.metrics import classification_report\n",
    "\n",
    "%matplotlib inline"
   ]
  },
  {
   "cell_type": "code",
   "execution_count": 2,
   "metadata": {},
   "outputs": [
    {
     "data": {
      "text/html": [
       "<div>\n",
       "<style>\n",
       "    .dataframe thead tr:only-child th {\n",
       "        text-align: right;\n",
       "    }\n",
       "\n",
       "    .dataframe thead th {\n",
       "        text-align: left;\n",
       "    }\n",
       "\n",
       "    .dataframe tbody tr th {\n",
       "        vertical-align: top;\n",
       "    }\n",
       "</style>\n",
       "<table border=\"1\" class=\"dataframe\">\n",
       "  <thead>\n",
       "    <tr style=\"text-align: right;\">\n",
       "      <th></th>\n",
       "      <th>age</th>\n",
       "      <th>workclass</th>\n",
       "      <th>education</th>\n",
       "      <th>education_num</th>\n",
       "      <th>marital_status</th>\n",
       "      <th>occupation</th>\n",
       "      <th>relationship</th>\n",
       "      <th>race</th>\n",
       "      <th>gender</th>\n",
       "      <th>capital_gain</th>\n",
       "      <th>capital_loss</th>\n",
       "      <th>hours_per_week</th>\n",
       "      <th>native_country</th>\n",
       "      <th>income_bracket</th>\n",
       "    </tr>\n",
       "  </thead>\n",
       "  <tbody>\n",
       "    <tr>\n",
       "      <th>0</th>\n",
       "      <td>39</td>\n",
       "      <td>State-gov</td>\n",
       "      <td>Bachelors</td>\n",
       "      <td>13</td>\n",
       "      <td>Never-married</td>\n",
       "      <td>Adm-clerical</td>\n",
       "      <td>Not-in-family</td>\n",
       "      <td>White</td>\n",
       "      <td>Male</td>\n",
       "      <td>2174</td>\n",
       "      <td>0</td>\n",
       "      <td>40</td>\n",
       "      <td>United-States</td>\n",
       "      <td>&lt;=50K</td>\n",
       "    </tr>\n",
       "    <tr>\n",
       "      <th>1</th>\n",
       "      <td>50</td>\n",
       "      <td>Self-emp-not-inc</td>\n",
       "      <td>Bachelors</td>\n",
       "      <td>13</td>\n",
       "      <td>Married-civ-spouse</td>\n",
       "      <td>Exec-managerial</td>\n",
       "      <td>Husband</td>\n",
       "      <td>White</td>\n",
       "      <td>Male</td>\n",
       "      <td>0</td>\n",
       "      <td>0</td>\n",
       "      <td>13</td>\n",
       "      <td>United-States</td>\n",
       "      <td>&lt;=50K</td>\n",
       "    </tr>\n",
       "    <tr>\n",
       "      <th>2</th>\n",
       "      <td>38</td>\n",
       "      <td>Private</td>\n",
       "      <td>HS-grad</td>\n",
       "      <td>9</td>\n",
       "      <td>Divorced</td>\n",
       "      <td>Handlers-cleaners</td>\n",
       "      <td>Not-in-family</td>\n",
       "      <td>White</td>\n",
       "      <td>Male</td>\n",
       "      <td>0</td>\n",
       "      <td>0</td>\n",
       "      <td>40</td>\n",
       "      <td>United-States</td>\n",
       "      <td>&lt;=50K</td>\n",
       "    </tr>\n",
       "    <tr>\n",
       "      <th>3</th>\n",
       "      <td>53</td>\n",
       "      <td>Private</td>\n",
       "      <td>11th</td>\n",
       "      <td>7</td>\n",
       "      <td>Married-civ-spouse</td>\n",
       "      <td>Handlers-cleaners</td>\n",
       "      <td>Husband</td>\n",
       "      <td>Black</td>\n",
       "      <td>Male</td>\n",
       "      <td>0</td>\n",
       "      <td>0</td>\n",
       "      <td>40</td>\n",
       "      <td>United-States</td>\n",
       "      <td>&lt;=50K</td>\n",
       "    </tr>\n",
       "    <tr>\n",
       "      <th>4</th>\n",
       "      <td>28</td>\n",
       "      <td>Private</td>\n",
       "      <td>Bachelors</td>\n",
       "      <td>13</td>\n",
       "      <td>Married-civ-spouse</td>\n",
       "      <td>Prof-specialty</td>\n",
       "      <td>Wife</td>\n",
       "      <td>Black</td>\n",
       "      <td>Female</td>\n",
       "      <td>0</td>\n",
       "      <td>0</td>\n",
       "      <td>40</td>\n",
       "      <td>Cuba</td>\n",
       "      <td>&lt;=50K</td>\n",
       "    </tr>\n",
       "  </tbody>\n",
       "</table>\n",
       "</div>"
      ],
      "text/plain": [
       "   age          workclass   education  education_num       marital_status  \\\n",
       "0   39          State-gov   Bachelors             13        Never-married   \n",
       "1   50   Self-emp-not-inc   Bachelors             13   Married-civ-spouse   \n",
       "2   38            Private     HS-grad              9             Divorced   \n",
       "3   53            Private        11th              7   Married-civ-spouse   \n",
       "4   28            Private   Bachelors             13   Married-civ-spouse   \n",
       "\n",
       "           occupation    relationship    race   gender  capital_gain  \\\n",
       "0        Adm-clerical   Not-in-family   White     Male          2174   \n",
       "1     Exec-managerial         Husband   White     Male             0   \n",
       "2   Handlers-cleaners   Not-in-family   White     Male             0   \n",
       "3   Handlers-cleaners         Husband   Black     Male             0   \n",
       "4      Prof-specialty            Wife   Black   Female             0   \n",
       "\n",
       "   capital_loss  hours_per_week  native_country income_bracket  \n",
       "0             0              40   United-States          <=50K  \n",
       "1             0              13   United-States          <=50K  \n",
       "2             0              40   United-States          <=50K  \n",
       "3             0              40   United-States          <=50K  \n",
       "4             0              40            Cuba          <=50K  "
      ]
     },
     "execution_count": 2,
     "metadata": {},
     "output_type": "execute_result"
    }
   ],
   "source": [
    "census = pd.read_csv('data/census_data.csv')\n",
    "census.head()"
   ]
  },
  {
   "cell_type": "code",
   "execution_count": 3,
   "metadata": {},
   "outputs": [
    {
     "data": {
      "text/plain": [
       "array([' <=50K', ' >50K'], dtype=object)"
      ]
     },
     "execution_count": 3,
     "metadata": {},
     "output_type": "execute_result"
    }
   ],
   "source": [
    "census['income_bracket'].unique()"
   ]
  },
  {
   "cell_type": "code",
   "execution_count": 4,
   "metadata": {
    "collapsed": true
   },
   "outputs": [],
   "source": [
    "def label_preprocess(label):\n",
    "    if label == ' <=50K':\n",
    "        return 0\n",
    "    else:\n",
    "        return 1"
   ]
  },
  {
   "cell_type": "code",
   "execution_count": 5,
   "metadata": {
    "collapsed": true
   },
   "outputs": [],
   "source": [
    "census['income_bracket'] = census['income_bracket'].apply(label_preprocess)"
   ]
  },
  {
   "cell_type": "code",
   "execution_count": 6,
   "metadata": {},
   "outputs": [
    {
     "data": {
      "text/html": [
       "<div>\n",
       "<style>\n",
       "    .dataframe thead tr:only-child th {\n",
       "        text-align: right;\n",
       "    }\n",
       "\n",
       "    .dataframe thead th {\n",
       "        text-align: left;\n",
       "    }\n",
       "\n",
       "    .dataframe tbody tr th {\n",
       "        vertical-align: top;\n",
       "    }\n",
       "</style>\n",
       "<table border=\"1\" class=\"dataframe\">\n",
       "  <thead>\n",
       "    <tr style=\"text-align: right;\">\n",
       "      <th></th>\n",
       "      <th>age</th>\n",
       "      <th>workclass</th>\n",
       "      <th>education</th>\n",
       "      <th>education_num</th>\n",
       "      <th>marital_status</th>\n",
       "      <th>occupation</th>\n",
       "      <th>relationship</th>\n",
       "      <th>race</th>\n",
       "      <th>gender</th>\n",
       "      <th>capital_gain</th>\n",
       "      <th>capital_loss</th>\n",
       "      <th>hours_per_week</th>\n",
       "      <th>native_country</th>\n",
       "      <th>income_bracket</th>\n",
       "    </tr>\n",
       "  </thead>\n",
       "  <tbody>\n",
       "    <tr>\n",
       "      <th>0</th>\n",
       "      <td>39</td>\n",
       "      <td>State-gov</td>\n",
       "      <td>Bachelors</td>\n",
       "      <td>13</td>\n",
       "      <td>Never-married</td>\n",
       "      <td>Adm-clerical</td>\n",
       "      <td>Not-in-family</td>\n",
       "      <td>White</td>\n",
       "      <td>Male</td>\n",
       "      <td>2174</td>\n",
       "      <td>0</td>\n",
       "      <td>40</td>\n",
       "      <td>United-States</td>\n",
       "      <td>0</td>\n",
       "    </tr>\n",
       "    <tr>\n",
       "      <th>1</th>\n",
       "      <td>50</td>\n",
       "      <td>Self-emp-not-inc</td>\n",
       "      <td>Bachelors</td>\n",
       "      <td>13</td>\n",
       "      <td>Married-civ-spouse</td>\n",
       "      <td>Exec-managerial</td>\n",
       "      <td>Husband</td>\n",
       "      <td>White</td>\n",
       "      <td>Male</td>\n",
       "      <td>0</td>\n",
       "      <td>0</td>\n",
       "      <td>13</td>\n",
       "      <td>United-States</td>\n",
       "      <td>0</td>\n",
       "    </tr>\n",
       "    <tr>\n",
       "      <th>2</th>\n",
       "      <td>38</td>\n",
       "      <td>Private</td>\n",
       "      <td>HS-grad</td>\n",
       "      <td>9</td>\n",
       "      <td>Divorced</td>\n",
       "      <td>Handlers-cleaners</td>\n",
       "      <td>Not-in-family</td>\n",
       "      <td>White</td>\n",
       "      <td>Male</td>\n",
       "      <td>0</td>\n",
       "      <td>0</td>\n",
       "      <td>40</td>\n",
       "      <td>United-States</td>\n",
       "      <td>0</td>\n",
       "    </tr>\n",
       "    <tr>\n",
       "      <th>3</th>\n",
       "      <td>53</td>\n",
       "      <td>Private</td>\n",
       "      <td>11th</td>\n",
       "      <td>7</td>\n",
       "      <td>Married-civ-spouse</td>\n",
       "      <td>Handlers-cleaners</td>\n",
       "      <td>Husband</td>\n",
       "      <td>Black</td>\n",
       "      <td>Male</td>\n",
       "      <td>0</td>\n",
       "      <td>0</td>\n",
       "      <td>40</td>\n",
       "      <td>United-States</td>\n",
       "      <td>0</td>\n",
       "    </tr>\n",
       "    <tr>\n",
       "      <th>4</th>\n",
       "      <td>28</td>\n",
       "      <td>Private</td>\n",
       "      <td>Bachelors</td>\n",
       "      <td>13</td>\n",
       "      <td>Married-civ-spouse</td>\n",
       "      <td>Prof-specialty</td>\n",
       "      <td>Wife</td>\n",
       "      <td>Black</td>\n",
       "      <td>Female</td>\n",
       "      <td>0</td>\n",
       "      <td>0</td>\n",
       "      <td>40</td>\n",
       "      <td>Cuba</td>\n",
       "      <td>0</td>\n",
       "    </tr>\n",
       "  </tbody>\n",
       "</table>\n",
       "</div>"
      ],
      "text/plain": [
       "   age          workclass   education  education_num       marital_status  \\\n",
       "0   39          State-gov   Bachelors             13        Never-married   \n",
       "1   50   Self-emp-not-inc   Bachelors             13   Married-civ-spouse   \n",
       "2   38            Private     HS-grad              9             Divorced   \n",
       "3   53            Private        11th              7   Married-civ-spouse   \n",
       "4   28            Private   Bachelors             13   Married-civ-spouse   \n",
       "\n",
       "           occupation    relationship    race   gender  capital_gain  \\\n",
       "0        Adm-clerical   Not-in-family   White     Male          2174   \n",
       "1     Exec-managerial         Husband   White     Male             0   \n",
       "2   Handlers-cleaners   Not-in-family   White     Male             0   \n",
       "3   Handlers-cleaners         Husband   Black     Male             0   \n",
       "4      Prof-specialty            Wife   Black   Female             0   \n",
       "\n",
       "   capital_loss  hours_per_week  native_country  income_bracket  \n",
       "0             0              40   United-States               0  \n",
       "1             0              13   United-States               0  \n",
       "2             0              40   United-States               0  \n",
       "3             0              40   United-States               0  \n",
       "4             0              40            Cuba               0  "
      ]
     },
     "execution_count": 6,
     "metadata": {},
     "output_type": "execute_result"
    }
   ],
   "source": [
    "census.head()"
   ]
  },
  {
   "cell_type": "code",
   "execution_count": 8,
   "metadata": {},
   "outputs": [
    {
     "name": "stdout",
     "output_type": "stream",
     "text": [
      "Shape of X_train:  (22792, 13)\n",
      "Shape of y_train:  (22792,)\n",
      "Shape of X_test:  (9769, 13)\n",
      "Shape or y_test:  (9769,)\n"
     ]
    }
   ],
   "source": [
    "X_data = census.drop('income_bracket', axis=1)\n",
    "y_labels = census['income_bracket']\n",
    "\n",
    "X_train, X_test, y_train, y_test = train_test_split(X_data, y_labels, test_size=0.3, random_state=101)\n",
    "\n",
    "print('Shape of X_train: ', X_train.shape)\n",
    "print('Shape of y_train: ', y_train.shape)\n",
    "print('Shape of X_test: ', X_test.shape)\n",
    "print('Shape or y_test: ', y_test.shape)"
   ]
  },
  {
   "cell_type": "code",
   "execution_count": 9,
   "metadata": {},
   "outputs": [
    {
     "data": {
      "text/plain": [
       "Index(['age', 'workclass', 'education', 'education_num', 'marital_status',\n",
       "       'occupation', 'relationship', 'race', 'gender', 'capital_gain',\n",
       "       'capital_loss', 'hours_per_week', 'native_country', 'income_bracket'],\n",
       "      dtype='object')"
      ]
     },
     "execution_count": 9,
     "metadata": {},
     "output_type": "execute_result"
    }
   ],
   "source": [
    "census.columns"
   ]
  },
  {
   "cell_type": "code",
   "execution_count": 11,
   "metadata": {
    "collapsed": true
   },
   "outputs": [],
   "source": [
    "gender = tf.feature_column.categorical_column_with_vocabulary_list(\"gender\", [\"Female\", \"Male\"])\n",
    "occupation = tf.feature_column.categorical_column_with_hash_bucket(\"occupation\", hash_bucket_size=1000)\n",
    "marital_status = tf.feature_column.categorical_column_with_hash_bucket(\"marital_status\", hash_bucket_size=1000)\n",
    "relationship = tf.feature_column.categorical_column_with_hash_bucket(\"relationship\", hash_bucket_size=1000)\n",
    "education = tf.feature_column.categorical_column_with_hash_bucket(\"education\", hash_bucket_size=1000)\n",
    "workclass = tf.feature_column.categorical_column_with_hash_bucket(\"workclass\", hash_bucket_size=1000)\n",
    "native_country = tf.feature_column.categorical_column_with_hash_bucket(\"native_country\", hash_bucket_size=1000)"
   ]
  },
  {
   "cell_type": "code",
   "execution_count": 13,
   "metadata": {
    "collapsed": true
   },
   "outputs": [],
   "source": [
    "age = tf.feature_column.numeric_column(\"age\")\n",
    "education_num = tf.feature_column.numeric_column(\"education_num\")\n",
    "capital_gain = tf.feature_column.numeric_column(\"capital_gain\")\n",
    "capital_loss= tf.feature_column.numeric_column(\"capital_loss\")\n",
    "hours_per_week = tf.feature_column.numeric_column(\"hours_per_week\")"
   ]
  },
  {
   "cell_type": "code",
   "execution_count": 16,
   "metadata": {},
   "outputs": [],
   "source": [
    "feature_columns = [gender, occupation, marital_status, relationship, education, workclass, native_country, age, education_num,\n",
    "capital_gain, capital_loss, hours_per_week]"
   ]
  },
  {
   "cell_type": "code",
   "execution_count": 17,
   "metadata": {
    "collapsed": true
   },
   "outputs": [],
   "source": [
    "input_func = tf.estimator.inputs.pandas_input_fn(x=X_train, y=y_train, batch_size=100, num_epochs=None, shuffle=True)"
   ]
  },
  {
   "cell_type": "code",
   "execution_count": 18,
   "metadata": {},
   "outputs": [
    {
     "name": "stdout",
     "output_type": "stream",
     "text": [
      "INFO:tensorflow:Using default config.\n",
      "WARNING:tensorflow:Using temporary folder as model directory: /tmp/tmp7oemlzrg\n",
      "INFO:tensorflow:Using config: {'_model_dir': '/tmp/tmp7oemlzrg', '_tf_random_seed': 1, '_save_summary_steps': 100, '_save_checkpoints_secs': 600, '_save_checkpoints_steps': None, '_session_config': None, '_keep_checkpoint_max': 5, '_keep_checkpoint_every_n_hours': 10000, '_log_step_count_steps': 100}\n"
     ]
    }
   ],
   "source": [
    "model = tf.estimator.LinearClassifier(feature_columns=feature_columns)"
   ]
  },
  {
   "cell_type": "code",
   "execution_count": 20,
   "metadata": {},
   "outputs": [
    {
     "name": "stdout",
     "output_type": "stream",
     "text": [
      "INFO:tensorflow:Create CheckpointSaverHook.\n",
      "INFO:tensorflow:Restoring parameters from /tmp/tmp7oemlzrg/model.ckpt-5000\n",
      "INFO:tensorflow:Saving checkpoints for 5001 into /tmp/tmp7oemlzrg/model.ckpt.\n",
      "INFO:tensorflow:loss = 54.124603, step = 5001\n",
      "INFO:tensorflow:global_step/sec: 375.655\n",
      "INFO:tensorflow:loss = 60.371967, step = 5101 (0.268 sec)\n",
      "INFO:tensorflow:global_step/sec: 345.959\n",
      "INFO:tensorflow:loss = 43.085876, step = 5201 (0.289 sec)\n",
      "INFO:tensorflow:global_step/sec: 373.113\n",
      "INFO:tensorflow:loss = 32.791237, step = 5301 (0.269 sec)\n",
      "INFO:tensorflow:global_step/sec: 296.583\n",
      "INFO:tensorflow:loss = 43.14972, step = 5401 (0.335 sec)\n",
      "INFO:tensorflow:global_step/sec: 298.128\n",
      "INFO:tensorflow:loss = 40.020203, step = 5501 (0.340 sec)\n",
      "INFO:tensorflow:global_step/sec: 320.93\n",
      "INFO:tensorflow:loss = 63.66205, step = 5601 (0.309 sec)\n",
      "INFO:tensorflow:global_step/sec: 320.181\n",
      "INFO:tensorflow:loss = 43.798668, step = 5701 (0.312 sec)\n",
      "INFO:tensorflow:global_step/sec: 294.544\n",
      "INFO:tensorflow:loss = 40.722305, step = 5801 (0.339 sec)\n",
      "INFO:tensorflow:global_step/sec: 381.531\n",
      "INFO:tensorflow:loss = 42.859337, step = 5901 (0.263 sec)\n",
      "INFO:tensorflow:global_step/sec: 298.818\n",
      "INFO:tensorflow:loss = 69.41277, step = 6001 (0.336 sec)\n",
      "INFO:tensorflow:global_step/sec: 285.753\n",
      "INFO:tensorflow:loss = 55.43611, step = 6101 (0.349 sec)\n",
      "INFO:tensorflow:global_step/sec: 324.377\n",
      "INFO:tensorflow:loss = 90.007965, step = 6201 (0.308 sec)\n",
      "INFO:tensorflow:global_step/sec: 319.796\n",
      "INFO:tensorflow:loss = 32.750885, step = 6301 (0.312 sec)\n",
      "INFO:tensorflow:global_step/sec: 289.573\n",
      "INFO:tensorflow:loss = 54.629215, step = 6401 (0.345 sec)\n",
      "INFO:tensorflow:global_step/sec: 365.452\n",
      "INFO:tensorflow:loss = 42.279823, step = 6501 (0.275 sec)\n",
      "INFO:tensorflow:global_step/sec: 308.035\n",
      "INFO:tensorflow:loss = 42.4827, step = 6601 (0.324 sec)\n",
      "INFO:tensorflow:global_step/sec: 385.192\n",
      "INFO:tensorflow:loss = 62.077118, step = 6701 (0.259 sec)\n",
      "INFO:tensorflow:global_step/sec: 413.467\n",
      "INFO:tensorflow:loss = 40.772778, step = 6801 (0.241 sec)\n",
      "INFO:tensorflow:global_step/sec: 458.689\n",
      "INFO:tensorflow:loss = 92.79573, step = 6901 (0.217 sec)\n",
      "INFO:tensorflow:global_step/sec: 454.555\n",
      "INFO:tensorflow:loss = 62.775925, step = 7001 (0.221 sec)\n",
      "INFO:tensorflow:global_step/sec: 476.257\n",
      "INFO:tensorflow:loss = 101.37522, step = 7101 (0.210 sec)\n",
      "INFO:tensorflow:global_step/sec: 462.712\n",
      "INFO:tensorflow:loss = 32.126823, step = 7201 (0.216 sec)\n",
      "INFO:tensorflow:global_step/sec: 284.119\n",
      "INFO:tensorflow:loss = 197.96198, step = 7301 (0.353 sec)\n",
      "INFO:tensorflow:global_step/sec: 394.866\n",
      "INFO:tensorflow:loss = 37.271812, step = 7401 (0.251 sec)\n",
      "INFO:tensorflow:global_step/sec: 399.202\n",
      "INFO:tensorflow:loss = 33.952156, step = 7501 (0.252 sec)\n",
      "INFO:tensorflow:global_step/sec: 458.653\n",
      "INFO:tensorflow:loss = 29.26712, step = 7601 (0.217 sec)\n",
      "INFO:tensorflow:global_step/sec: 464.671\n",
      "INFO:tensorflow:loss = 28.186047, step = 7701 (0.214 sec)\n",
      "INFO:tensorflow:global_step/sec: 435.157\n",
      "INFO:tensorflow:loss = 40.31858, step = 7801 (0.231 sec)\n",
      "INFO:tensorflow:global_step/sec: 463.178\n",
      "INFO:tensorflow:loss = 31.715755, step = 7901 (0.216 sec)\n",
      "INFO:tensorflow:global_step/sec: 459.882\n",
      "INFO:tensorflow:loss = 72.328705, step = 8001 (0.218 sec)\n",
      "INFO:tensorflow:global_step/sec: 456.457\n",
      "INFO:tensorflow:loss = 40.8832, step = 8101 (0.219 sec)\n",
      "INFO:tensorflow:global_step/sec: 470.721\n",
      "INFO:tensorflow:loss = 38.916634, step = 8201 (0.212 sec)\n",
      "INFO:tensorflow:global_step/sec: 467.041\n",
      "INFO:tensorflow:loss = 48.15116, step = 8301 (0.214 sec)\n",
      "INFO:tensorflow:global_step/sec: 470.803\n",
      "INFO:tensorflow:loss = 250.49028, step = 8401 (0.213 sec)\n",
      "INFO:tensorflow:global_step/sec: 442.615\n",
      "INFO:tensorflow:loss = 108.91904, step = 8501 (0.225 sec)\n",
      "INFO:tensorflow:global_step/sec: 477.908\n",
      "INFO:tensorflow:loss = 33.868877, step = 8601 (0.210 sec)\n",
      "INFO:tensorflow:global_step/sec: 480.223\n",
      "INFO:tensorflow:loss = 37.30468, step = 8701 (0.208 sec)\n",
      "INFO:tensorflow:global_step/sec: 462.568\n",
      "INFO:tensorflow:loss = 34.179462, step = 8801 (0.215 sec)\n",
      "INFO:tensorflow:global_step/sec: 442.836\n",
      "INFO:tensorflow:loss = 39.643356, step = 8901 (0.227 sec)\n",
      "INFO:tensorflow:global_step/sec: 470.708\n",
      "INFO:tensorflow:loss = 58.83882, step = 9001 (0.212 sec)\n",
      "INFO:tensorflow:global_step/sec: 479.89\n",
      "INFO:tensorflow:loss = 40.674313, step = 9101 (0.210 sec)\n",
      "INFO:tensorflow:global_step/sec: 481.11\n",
      "INFO:tensorflow:loss = 48.190353, step = 9201 (0.207 sec)\n",
      "INFO:tensorflow:global_step/sec: 460.922\n",
      "INFO:tensorflow:loss = 26.533443, step = 9301 (0.216 sec)\n",
      "INFO:tensorflow:global_step/sec: 423.667\n",
      "INFO:tensorflow:loss = 80.19379, step = 9401 (0.237 sec)\n",
      "INFO:tensorflow:global_step/sec: 466.581\n",
      "INFO:tensorflow:loss = 32.61087, step = 9501 (0.214 sec)\n",
      "INFO:tensorflow:global_step/sec: 472.178\n",
      "INFO:tensorflow:loss = 58.980293, step = 9601 (0.212 sec)\n",
      "INFO:tensorflow:global_step/sec: 448.89\n",
      "INFO:tensorflow:loss = 164.98479, step = 9701 (0.223 sec)\n",
      "INFO:tensorflow:global_step/sec: 474.316\n",
      "INFO:tensorflow:loss = 49.357445, step = 9801 (0.211 sec)\n",
      "INFO:tensorflow:global_step/sec: 453.699\n",
      "INFO:tensorflow:loss = 30.764729, step = 9901 (0.220 sec)\n",
      "INFO:tensorflow:Saving checkpoints for 10000 into /tmp/tmp7oemlzrg/model.ckpt.\n",
      "INFO:tensorflow:Loss for final step: 27.022501.\n"
     ]
    },
    {
     "data": {
      "text/plain": [
       "<tensorflow.python.estimator.canned.linear.LinearClassifier at 0x7ff961fd49e8>"
      ]
     },
     "execution_count": 20,
     "metadata": {},
     "output_type": "execute_result"
    }
   ],
   "source": [
    "model.train(input_fn=input_func, steps=5000)\n"
   ]
  },
  {
   "cell_type": "code",
   "execution_count": 21,
   "metadata": {
    "collapsed": true
   },
   "outputs": [],
   "source": [
    "pred_func = tf.estimator.inputs.pandas_input_fn(x=X_test, batch_size=len(X_test), shuffle=False)"
   ]
  },
  {
   "cell_type": "code",
   "execution_count": 22,
   "metadata": {},
   "outputs": [
    {
     "name": "stdout",
     "output_type": "stream",
     "text": [
      "INFO:tensorflow:Restoring parameters from /tmp/tmp7oemlzrg/model.ckpt-10000\n"
     ]
    }
   ],
   "source": [
    "predictions = list(model.predict(input_fn=pred_func))"
   ]
  },
  {
   "cell_type": "code",
   "execution_count": 23,
   "metadata": {},
   "outputs": [
    {
     "data": {
      "text/plain": [
       "{'class_ids': array([0]),\n",
       " 'classes': array([b'0'], dtype=object),\n",
       " 'logistic': array([0.3001432], dtype=float32),\n",
       " 'logits': array([-0.8466159], dtype=float32),\n",
       " 'probabilities': array([0.69985676, 0.3001432 ], dtype=float32)}"
      ]
     },
     "execution_count": 23,
     "metadata": {},
     "output_type": "execute_result"
    }
   ],
   "source": [
    "predictions[0]"
   ]
  },
  {
   "cell_type": "code",
   "execution_count": 26,
   "metadata": {},
   "outputs": [
    {
     "data": {
      "text/plain": [
       "[0, 0, 0, 0, 0, 0, 0, 0, 0, 0]"
      ]
     },
     "execution_count": 26,
     "metadata": {},
     "output_type": "execute_result"
    }
   ],
   "source": [
    "results = []\n",
    "for pred in predictions:\n",
    "    results.append(pred['class_ids'][0])\n",
    "results[:10]"
   ]
  },
  {
   "cell_type": "code",
   "execution_count": 28,
   "metadata": {},
   "outputs": [
    {
     "name": "stdout",
     "output_type": "stream",
     "text": [
      "             precision    recall  f1-score   support\n",
      "\n",
      "          0       0.87      0.93      0.90      7436\n",
      "          1       0.71      0.55      0.62      2333\n",
      "\n",
      "avg / total       0.83      0.84      0.83      9769\n",
      "\n"
     ]
    }
   ],
   "source": [
    "print(classification_report(y_test, results))"
   ]
  },
  {
   "cell_type": "code",
   "execution_count": null,
   "metadata": {
    "collapsed": true
   },
   "outputs": [],
   "source": []
  }
 ],
 "metadata": {
  "kernelspec": {
   "display_name": "Python 3",
   "language": "python",
   "name": "python3"
  },
  "language_info": {
   "codemirror_mode": {
    "name": "ipython",
    "version": 3
   },
   "file_extension": ".py",
   "mimetype": "text/x-python",
   "name": "python",
   "nbconvert_exporter": "python",
   "pygments_lexer": "ipython3",
   "version": "3.6.3"
  }
 },
 "nbformat": 4,
 "nbformat_minor": 2
}
